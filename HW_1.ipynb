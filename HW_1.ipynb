{
 "cells": [
  {
   "cell_type": "markdown",
   "metadata": {},
   "source": [
    "## Семинар 1 Индекс\n",
    "\n",
    "## Intro"
   ]
  },
  {
   "cell_type": "markdown",
   "metadata": {},
   "source": [
    "### чтение файла \n",
    "- конструкция __with open__ (recommended)\n",
    "- конструкция __open + close__"
   ]
  },
  {
   "cell_type": "code",
   "execution_count": null,
   "metadata": {
    "collapsed": true
   },
   "outputs": [],
   "source": [
    "fpath = 'fpath.txt'\n",
    "\n",
    "# одним массивом  \n",
    "with open(fpath, 'r') as f:  \n",
    "    text = f.read() \n",
    "\n",
    "#по строкам, в конце каждой строки \\n  \n",
    "with open(fpath, 'r') as f:   \n",
    "    text = f.readlines() \n",
    "\n",
    "#по строкам, без \\n   \n",
    "with open(fpath, 'r') as f:   \n",
    "    text = f.read().splitlines() \n",
    "    \n",
    "#not reccomended  \n",
    "file = open(txt_fpath, 'r')  \n",
    "text = file.read()    \n",
    "file.close() "
   ]
  },
  {
   "cell_type": "markdown",
   "metadata": {},
   "source": [
    "### работа с файлами и папками"
   ]
  },
  {
   "cell_type": "markdown",
   "metadata": {},
   "source": [
    "### os.path  \n",
    "путь до файла"
   ]
  },
  {
   "cell_type": "code",
   "execution_count": null,
   "metadata": {
    "collapsed": true
   },
   "outputs": [],
   "source": [
    "import os\n",
    "\n",
    "# возвращает полный путь до папки/файла по имени файла / папки\n",
    "print(os.path.abspath('fpath.txt'))\n",
    "\n",
    "# возвращает имя файла / папки по полному пути до него\n",
    "print(os.path.basename('/your/path/to/folder/with/fpath.txt'))\n",
    "\n",
    "# проверить существование директории - True / False\n",
    "print(os.path.exists('your/path/to/any/folder/'))"
   ]
  },
  {
   "cell_type": "markdown",
   "metadata": {},
   "source": [
    "### os.listdir  \n",
    "возвращает список файлов в данной директории"
   ]
  },
  {
   "cell_type": "code",
   "execution_count": null,
   "metadata": {
    "collapsed": true
   },
   "outputs": [],
   "source": [
    "main_dir = '/your/path/to/folder/with/folders/'\n",
    "os.listdir(main_dir)"
   ]
  },
  {
   "cell_type": "markdown",
   "metadata": {},
   "source": [
    "сделаем пути абсолютными, чтобы наш код не зависел от того, где лежит этот файл"
   ]
  },
  {
   "cell_type": "code",
   "execution_count": null,
   "metadata": {
    "collapsed": true
   },
   "outputs": [],
   "source": [
    "[main_dir + fpath for fpath in os.listdir(main_dir)]"
   ]
  },
  {
   "cell_type": "markdown",
   "metadata": {},
   "source": [
    "не забывайте исключать системные директории, такие как .DS_Store"
   ]
  },
  {
   "cell_type": "code",
   "execution_count": null,
   "metadata": {
    "collapsed": true
   },
   "outputs": [],
   "source": [
    "[main_dir + fpath for fpath in os.listdir(main_dir) if not '.DS_Store' in fpath]"
   ]
  },
  {
   "cell_type": "markdown",
   "metadata": {},
   "source": [
    "### os.walk\n",
    "root - начальная директория  \n",
    "dirs - список поддиректорий (папок)   \n",
    "files - список файлов в этих поддиректориях  "
   ]
  },
  {
   "cell_type": "code",
   "execution_count": null,
   "metadata": {
    "collapsed": true
   },
   "outputs": [],
   "source": [
    "main_dir = '/your/path/to/folder/with/folders/'\n",
    "\n",
    "for root, dirs, files in os.walk(main_dir):\n",
    "    for name in files:\n",
    "        print(os.path.join(root, name))"
   ]
  },
  {
   "cell_type": "markdown",
   "metadata": {},
   "source": [
    "> __os.walk__ возвращает генератор, это значит, что получить его элементы можно только проитерировавшись по нему  \n",
    "но его легко можно превратить в list и увидеть все его значения"
   ]
  },
  {
   "cell_type": "code",
   "execution_count": null,
   "metadata": {
    "collapsed": true
   },
   "outputs": [],
   "source": [
    "list(os.walk(main_dir))"
   ]
  },
  {
   "cell_type": "markdown",
   "metadata": {},
   "source": [
    "  "
   ]
  },
  {
   "cell_type": "markdown",
   "metadata": {},
   "source": [
    "##  Обратный индекс \n",
    "\n",
    "Сам по себе обратный индекс не может осуществлять поиск, для этого необходимо добавить к нему определенную метрику. Это не совсем очевидная задача, поэтому немного отложим ее. А сейчас посмотрим, что полезного можно вытащить из индекса.    \n",
    "По сути, индекс - это информация о частоте встречаемости слова в каждом документе.   \n",
    "Из этого можно понять, например:\n",
    "1. какое слово является самым часто употребимым / редким\n",
    "2. какие слова встречаются всегда вместе. Так можно парсить твиттер, fb, форумы и отлавливать новые устойчивые выражения в речи\n",
    "3. какой документ является самым большим / маленьким (очень изощренный способ, когда есть _len_)"
   ]
  },
  {
   "cell_type": "markdown",
   "metadata": {},
   "source": [
    "### __Задача__: \n",
    "получите обратный индекс для коллекция документов.    \n",
    "Перед этим постройте матрицу терм-документ и сделайте функцию булева поиска, которая по запросу будет возвращать 5 релевантных документов.   \n",
    "В качестве коллекции возьмите сценарий сезонов сериала Друзья. Одна серия - один документ.\n",
    "\n",
    "[download_friends_corpus](https://yadi.sk/d/k_M7n63A3adGSz)"
   ]
  },
  {
   "cell_type": "markdown",
   "metadata": {},
   "source": [
    "Этапы:   \n",
    "    1. получить коллекцию документов\n",
    "    2. для каждого файла коллекции сделать необходимую на ваш взгляд предобработку\n",
    "    3. получить матрицу терм-документ, написать функцию поиска по ней\n",
    "    4. получить обратный индекс в виде словаря, где ключ - нормализованное слово, \n",
    "    значение - список файлов, в которых это слово встречается\n",
    "    5. вывести кусочек индекса в виде таблицы \n",
    "    6. сделать анализ обратного индекса. Это задание принимается в виде кода и ответов на вопросы"
   ]
  },
  {
   "cell_type": "markdown",
   "metadata": {},
   "source": [
    "![](Friends/wedding.png)"
   ]
  },
  {
   "cell_type": "markdown",
   "metadata": {},
   "source": [
    "Напоминание:    \n",
    "> При итерации по списку вы можете помимо самого элемента получить его порядковый номер    \n",
    "``` for i, element in enumerate(your_list): ...  ```    \n",
    "Иногда для получения элемента делают так -  ``` your_list[i] ```, старайтесь этого избегать"
   ]
  },
  {
   "cell_type": "code",
   "execution_count": 1,
   "metadata": {
    "collapsed": true
   },
   "outputs": [],
   "source": [
    "import warnings\n",
    "warnings.filterwarnings('ignore')"
   ]
  },
  {
   "cell_type": "code",
   "execution_count": 2,
   "metadata": {
    "collapsed": true
   },
   "outputs": [],
   "source": [
    "import string\n",
    "from string import punctuation\n",
    "import re\n",
    "import os\n",
    "import pandas as pd\n",
    "import numpy as np\n",
    "import os\n",
    "from nltk.corpus import stopwords\n",
    "\n",
    "stops = stopwords.words('russian')"
   ]
  },
  {
   "cell_type": "code",
   "execution_count": 3,
   "metadata": {
    "collapsed": true
   },
   "outputs": [],
   "source": [
    "from pymystem3 import Mystem\n",
    "\n",
    "mystem = Mystem()"
   ]
  },
  {
   "cell_type": "code",
   "execution_count": 4,
   "metadata": {
    "collapsed": true
   },
   "outputs": [],
   "source": [
    "def cleaner(text):\n",
    "    new_text = re.sub('\\ufeff', '', text)\n",
    "    new_text = re.sub('([\\W]|\\d)', ' ', new_text)\n",
    "    new_text = re.sub('(\\n|\\t|\\v|\\r)', ' ', new_text)\n",
    "    \n",
    "    return new_text"
   ]
  },
  {
   "cell_type": "code",
   "execution_count": 5,
   "metadata": {
    "collapsed": true
   },
   "outputs": [],
   "source": [
    "main_dir = '/Users/alinashaymardanova/Downloads/Friends'\n",
    "\n",
    "i = 0\n",
    "freq = list()\n",
    "files_list = {}\n",
    "episod_name = {}\n",
    "\n",
    "for root, dirs, files in os.walk(main_dir):\n",
    "    for name in files:\n",
    "        if name != '.DS_Store':\n",
    "            with open(os.path.join(root, name), 'r') as f:\n",
    "                name = re.sub('\\.ru\\.txt', '', name)\n",
    "                text = f.read()\n",
    "                lemma = mystem.lemmatize(cleaner(text))\n",
    "                freq.append(len(lemma))\n",
    "                files_list[name] = ''.join(lemma)\n",
    "                episod_name[i] = name\n",
    "                i += 1\n",
    "\n",
    "\n",
    "### пройдитесь по всем папкам коллекции и соберите все пути .txt файлов\n",
    "### _check : в коллекции должно быть 165 файлов"
   ]
  },
  {
   "cell_type": "code",
   "execution_count": 6,
   "metadata": {},
   "outputs": [
    {
     "data": {
      "text/plain": [
       "165"
      ]
     },
     "execution_count": 6,
     "metadata": {},
     "output_type": "execute_result"
    }
   ],
   "source": [
    "len(files_list)"
   ]
  },
  {
   "cell_type": "code",
   "execution_count": 7,
   "metadata": {
    "collapsed": true
   },
   "outputs": [],
   "source": [
    "from sklearn.feature_extraction.text import TfidfVectorizer, CountVectorizer"
   ]
  },
  {
   "cell_type": "code",
   "execution_count": 8,
   "metadata": {
    "collapsed": true
   },
   "outputs": [],
   "source": [
    "vect = TfidfVectorizer()\n",
    "x = vect.fit_transform(list(files_list.values()))"
   ]
  },
  {
   "cell_type": "code",
   "execution_count": 9,
   "metadata": {
    "collapsed": true
   },
   "outputs": [],
   "source": [
    "data = pd.DataFrame(x.todense()).transpose()\n",
    "data.columns = list(episod_name.values())\n",
    "\n",
    "data['Word'] = vect.get_feature_names()\n",
    "data = data.set_index(['Word'])\n",
    "data['freq'] = data.sum(axis=1)"
   ]
  },
  {
   "cell_type": "code",
   "execution_count": 10,
   "metadata": {},
   "outputs": [
    {
     "data": {
      "text/html": [
       "<div>\n",
       "<style>\n",
       "    .dataframe thead tr:only-child th {\n",
       "        text-align: right;\n",
       "    }\n",
       "\n",
       "    .dataframe thead th {\n",
       "        text-align: left;\n",
       "    }\n",
       "\n",
       "    .dataframe tbody tr th {\n",
       "        vertical-align: top;\n",
       "    }\n",
       "</style>\n",
       "<table border=\"1\" class=\"dataframe\">\n",
       "  <thead>\n",
       "    <tr style=\"text-align: right;\">\n",
       "      <th></th>\n",
       "      <th>Friends - 2x08 - The One With The List</th>\n",
       "      <th>Friends - 2x20 - The One Where Old Yeller Dies.NurlanB</th>\n",
       "      <th>Friends - 2x24 - The One With Barry And Mindy's Wedding</th>\n",
       "      <th>Friends - 2x16 - The One Where Joey Moves Out</th>\n",
       "      <th>Friends - 2x07 - The One Where Ross Finds Out</th>\n",
       "      <th>Friends - 2x17 - The One Where Eddie Moves In</th>\n",
       "      <th>Friends - 2x04 - The One With Phoebe's Husband</th>\n",
       "      <th>Friends - 2x15 - The One Where Ross And Rachel...You Know</th>\n",
       "      <th>Friends - 2x01 - The One With Ross's New Girlfriend.DVDRip</th>\n",
       "      <th>Friends - 2x21 - The One With The Bullies</th>\n",
       "      <th>...</th>\n",
       "      <th>Friends - 7x08 - The One Where Chandler Doesn't Like Dogs</th>\n",
       "      <th>Friends - 7x09 - The One With All The Candy</th>\n",
       "      <th>Friends - 7x17 - The One With The Cheap Wedding Dress</th>\n",
       "      <th>Friends - 7x23 - The One With Chandler And Monica's Wedding (1)</th>\n",
       "      <th>Friends - 7x13 - The One Where Rosita Dies</th>\n",
       "      <th>Friends - 7x11 - The One With All The Cheesecakes</th>\n",
       "      <th>Friends - 7x12 - The One Where They're Up All Night</th>\n",
       "      <th>Friends - 7x03 - The One With Phoebe's Cookies</th>\n",
       "      <th>Friends - 7x01 - The One With Monica's Thunder</th>\n",
       "      <th>freq</th>\n",
       "    </tr>\n",
       "    <tr>\n",
       "      <th>Word</th>\n",
       "      <th></th>\n",
       "      <th></th>\n",
       "      <th></th>\n",
       "      <th></th>\n",
       "      <th></th>\n",
       "      <th></th>\n",
       "      <th></th>\n",
       "      <th></th>\n",
       "      <th></th>\n",
       "      <th></th>\n",
       "      <th></th>\n",
       "      <th></th>\n",
       "      <th></th>\n",
       "      <th></th>\n",
       "      <th></th>\n",
       "      <th></th>\n",
       "      <th></th>\n",
       "      <th></th>\n",
       "      <th></th>\n",
       "      <th></th>\n",
       "      <th></th>\n",
       "    </tr>\n",
       "  </thead>\n",
       "  <tbody>\n",
       "    <tr>\n",
       "      <th>after</th>\n",
       "      <td>0.0</td>\n",
       "      <td>0.0</td>\n",
       "      <td>0.0</td>\n",
       "      <td>0.0</td>\n",
       "      <td>0.0</td>\n",
       "      <td>0.0</td>\n",
       "      <td>0.0</td>\n",
       "      <td>0.0</td>\n",
       "      <td>0.0</td>\n",
       "      <td>0.0</td>\n",
       "      <td>...</td>\n",
       "      <td>0.0</td>\n",
       "      <td>0.025743</td>\n",
       "      <td>0.0</td>\n",
       "      <td>0.0</td>\n",
       "      <td>0.0</td>\n",
       "      <td>0.0</td>\n",
       "      <td>0.0</td>\n",
       "      <td>0.0</td>\n",
       "      <td>0.0</td>\n",
       "      <td>0.025743</td>\n",
       "    </tr>\n",
       "    <tr>\n",
       "      <th>again</th>\n",
       "      <td>0.0</td>\n",
       "      <td>0.0</td>\n",
       "      <td>0.0</td>\n",
       "      <td>0.0</td>\n",
       "      <td>0.0</td>\n",
       "      <td>0.0</td>\n",
       "      <td>0.0</td>\n",
       "      <td>0.0</td>\n",
       "      <td>0.0</td>\n",
       "      <td>0.0</td>\n",
       "      <td>...</td>\n",
       "      <td>0.0</td>\n",
       "      <td>0.000000</td>\n",
       "      <td>0.0</td>\n",
       "      <td>0.0</td>\n",
       "      <td>0.0</td>\n",
       "      <td>0.0</td>\n",
       "      <td>0.0</td>\n",
       "      <td>0.0</td>\n",
       "      <td>0.0</td>\n",
       "      <td>0.025580</td>\n",
       "    </tr>\n",
       "    <tr>\n",
       "      <th>ahh</th>\n",
       "      <td>0.0</td>\n",
       "      <td>0.0</td>\n",
       "      <td>0.0</td>\n",
       "      <td>0.0</td>\n",
       "      <td>0.0</td>\n",
       "      <td>0.0</td>\n",
       "      <td>0.0</td>\n",
       "      <td>0.0</td>\n",
       "      <td>0.0</td>\n",
       "      <td>0.0</td>\n",
       "      <td>...</td>\n",
       "      <td>0.0</td>\n",
       "      <td>0.000000</td>\n",
       "      <td>0.0</td>\n",
       "      <td>0.0</td>\n",
       "      <td>0.0</td>\n",
       "      <td>0.0</td>\n",
       "      <td>0.0</td>\n",
       "      <td>0.0</td>\n",
       "      <td>0.0</td>\n",
       "      <td>0.024607</td>\n",
       "    </tr>\n",
       "    <tr>\n",
       "      <th>all</th>\n",
       "      <td>0.0</td>\n",
       "      <td>0.0</td>\n",
       "      <td>0.0</td>\n",
       "      <td>0.0</td>\n",
       "      <td>0.0</td>\n",
       "      <td>0.0</td>\n",
       "      <td>0.0</td>\n",
       "      <td>0.0</td>\n",
       "      <td>0.0</td>\n",
       "      <td>0.0</td>\n",
       "      <td>...</td>\n",
       "      <td>0.0</td>\n",
       "      <td>0.000000</td>\n",
       "      <td>0.0</td>\n",
       "      <td>0.0</td>\n",
       "      <td>0.0</td>\n",
       "      <td>0.0</td>\n",
       "      <td>0.0</td>\n",
       "      <td>0.0</td>\n",
       "      <td>0.0</td>\n",
       "      <td>0.068348</td>\n",
       "    </tr>\n",
       "    <tr>\n",
       "      <th>and</th>\n",
       "      <td>0.0</td>\n",
       "      <td>0.0</td>\n",
       "      <td>0.0</td>\n",
       "      <td>0.0</td>\n",
       "      <td>0.0</td>\n",
       "      <td>0.0</td>\n",
       "      <td>0.0</td>\n",
       "      <td>0.0</td>\n",
       "      <td>0.0</td>\n",
       "      <td>0.0</td>\n",
       "      <td>...</td>\n",
       "      <td>0.0</td>\n",
       "      <td>0.000000</td>\n",
       "      <td>0.0</td>\n",
       "      <td>0.0</td>\n",
       "      <td>0.0</td>\n",
       "      <td>0.0</td>\n",
       "      <td>0.0</td>\n",
       "      <td>0.0</td>\n",
       "      <td>0.0</td>\n",
       "      <td>0.076152</td>\n",
       "    </tr>\n",
       "  </tbody>\n",
       "</table>\n",
       "<p>5 rows × 166 columns</p>\n",
       "</div>"
      ],
      "text/plain": [
       "       Friends - 2x08 - The One With The List  \\\n",
       "Word                                            \n",
       "after                                     0.0   \n",
       "again                                     0.0   \n",
       "ahh                                       0.0   \n",
       "all                                       0.0   \n",
       "and                                       0.0   \n",
       "\n",
       "       Friends - 2x20 - The One Where Old Yeller Dies.NurlanB  \\\n",
       "Word                                                            \n",
       "after                                                0.0        \n",
       "again                                                0.0        \n",
       "ahh                                                  0.0        \n",
       "all                                                  0.0        \n",
       "and                                                  0.0        \n",
       "\n",
       "       Friends - 2x24 - The One With Barry And Mindy's Wedding  \\\n",
       "Word                                                             \n",
       "after                                                0.0         \n",
       "again                                                0.0         \n",
       "ahh                                                  0.0         \n",
       "all                                                  0.0         \n",
       "and                                                  0.0         \n",
       "\n",
       "       Friends - 2x16 - The One Where Joey Moves Out  \\\n",
       "Word                                                   \n",
       "after                                            0.0   \n",
       "again                                            0.0   \n",
       "ahh                                              0.0   \n",
       "all                                              0.0   \n",
       "and                                              0.0   \n",
       "\n",
       "       Friends - 2x07 - The One Where Ross Finds Out  \\\n",
       "Word                                                   \n",
       "after                                            0.0   \n",
       "again                                            0.0   \n",
       "ahh                                              0.0   \n",
       "all                                              0.0   \n",
       "and                                              0.0   \n",
       "\n",
       "       Friends - 2x17 - The One Where Eddie Moves In  \\\n",
       "Word                                                   \n",
       "after                                            0.0   \n",
       "again                                            0.0   \n",
       "ahh                                              0.0   \n",
       "all                                              0.0   \n",
       "and                                              0.0   \n",
       "\n",
       "       Friends - 2x04 - The One With Phoebe's Husband  \\\n",
       "Word                                                    \n",
       "after                                             0.0   \n",
       "again                                             0.0   \n",
       "ahh                                               0.0   \n",
       "all                                               0.0   \n",
       "and                                               0.0   \n",
       "\n",
       "       Friends - 2x15 - The One Where Ross And Rachel...You Know  \\\n",
       "Word                                                               \n",
       "after                                                0.0           \n",
       "again                                                0.0           \n",
       "ahh                                                  0.0           \n",
       "all                                                  0.0           \n",
       "and                                                  0.0           \n",
       "\n",
       "       Friends - 2x01 - The One With Ross's New Girlfriend.DVDRip  \\\n",
       "Word                                                                \n",
       "after                                                0.0            \n",
       "again                                                0.0            \n",
       "ahh                                                  0.0            \n",
       "all                                                  0.0            \n",
       "and                                                  0.0            \n",
       "\n",
       "       Friends - 2x21 - The One With The Bullies    ...     \\\n",
       "Word                                                ...      \n",
       "after                                        0.0    ...      \n",
       "again                                        0.0    ...      \n",
       "ahh                                          0.0    ...      \n",
       "all                                          0.0    ...      \n",
       "and                                          0.0    ...      \n",
       "\n",
       "       Friends - 7x08 - The One Where Chandler Doesn't Like Dogs  \\\n",
       "Word                                                               \n",
       "after                                                0.0           \n",
       "again                                                0.0           \n",
       "ahh                                                  0.0           \n",
       "all                                                  0.0           \n",
       "and                                                  0.0           \n",
       "\n",
       "       Friends - 7x09 - The One With All The Candy  \\\n",
       "Word                                                 \n",
       "after                                     0.025743   \n",
       "again                                     0.000000   \n",
       "ahh                                       0.000000   \n",
       "all                                       0.000000   \n",
       "and                                       0.000000   \n",
       "\n",
       "       Friends - 7x17 - The One With The Cheap Wedding Dress  \\\n",
       "Word                                                           \n",
       "after                                                0.0       \n",
       "again                                                0.0       \n",
       "ahh                                                  0.0       \n",
       "all                                                  0.0       \n",
       "and                                                  0.0       \n",
       "\n",
       "       Friends - 7x23 - The One With Chandler And Monica's Wedding (1)  \\\n",
       "Word                                                                     \n",
       "after                                                0.0                 \n",
       "again                                                0.0                 \n",
       "ahh                                                  0.0                 \n",
       "all                                                  0.0                 \n",
       "and                                                  0.0                 \n",
       "\n",
       "       Friends - 7x13 - The One Where Rosita Dies  \\\n",
       "Word                                                \n",
       "after                                         0.0   \n",
       "again                                         0.0   \n",
       "ahh                                           0.0   \n",
       "all                                           0.0   \n",
       "and                                           0.0   \n",
       "\n",
       "       Friends - 7x11 - The One With All The Cheesecakes  \\\n",
       "Word                                                       \n",
       "after                                                0.0   \n",
       "again                                                0.0   \n",
       "ahh                                                  0.0   \n",
       "all                                                  0.0   \n",
       "and                                                  0.0   \n",
       "\n",
       "       Friends - 7x12 - The One Where They're Up All Night  \\\n",
       "Word                                                         \n",
       "after                                                0.0     \n",
       "again                                                0.0     \n",
       "ahh                                                  0.0     \n",
       "all                                                  0.0     \n",
       "and                                                  0.0     \n",
       "\n",
       "       Friends - 7x03 - The One With Phoebe's Cookies  \\\n",
       "Word                                                    \n",
       "after                                             0.0   \n",
       "again                                             0.0   \n",
       "ahh                                               0.0   \n",
       "all                                               0.0   \n",
       "and                                               0.0   \n",
       "\n",
       "       Friends - 7x01 - The One With Monica's Thunder      freq  \n",
       "Word                                                             \n",
       "after                                             0.0  0.025743  \n",
       "again                                             0.0  0.025580  \n",
       "ahh                                               0.0  0.024607  \n",
       "all                                               0.0  0.068348  \n",
       "and                                               0.0  0.076152  \n",
       "\n",
       "[5 rows x 166 columns]"
      ]
     },
     "execution_count": 10,
     "metadata": {},
     "output_type": "execute_result"
    }
   ],
   "source": [
    "data.head()"
   ]
  },
  {
   "cell_type": "code",
   "execution_count": 11,
   "metadata": {
    "collapsed": true
   },
   "outputs": [],
   "source": [
    "def searcher(data, word):\n",
    "    \n",
    "    try:\n",
    "        new_df = pd.DataFrame(data.transpose()[str(word)])\n",
    "        result = new_df.loc[new_df[str(word)] != 0].transpose().columns.values[:-1]\n",
    "    \n",
    "    except KeyError:\n",
    "        raise ValueError('No such word')\n",
    "\n",
    "    return list(result)\n"
   ]
  },
  {
   "cell_type": "code",
   "execution_count": 12,
   "metadata": {},
   "outputs": [
    {
     "data": {
      "text/plain": [
       "['Friends - 5x18 - The One Where Rachel Smokes',\n",
       " 'Friends - 6x01 - The One After Vegas']"
      ]
     },
     "execution_count": 12,
     "metadata": {},
     "output_type": "execute_result"
    }
   ],
   "source": [
    "searcher(data, 'all')"
   ]
  },
  {
   "cell_type": "markdown",
   "metadata": {},
   "source": [
    "Совет для построения обратного индекса: \n",
    "> В качестве словаря используйте ``` defaultdict ``` из модуля collections   \n",
    "Так можно избежать конструкции ``` dict.setdefault(key, default=None) ```"
   ]
  },
  {
   "cell_type": "code",
   "execution_count": 13,
   "metadata": {
    "collapsed": true
   },
   "outputs": [],
   "source": [
    "from collections import defaultdict"
   ]
  },
  {
   "cell_type": "code",
   "execution_count": 14,
   "metadata": {
    "collapsed": true
   },
   "outputs": [],
   "source": [
    "def inverted_index(vect) -> dict:\n",
    "    \"\"\"\n",
    "    Create inverted index by input doc collection\n",
    "    :return: inverted index\n",
    "    \"\"\"\n",
    "    \n",
    "    dic = defaultdict(list)\n",
    "\n",
    "    for word in vect.get_feature_names():\n",
    "        list_ = list()\n",
    "        for el in searcher(data, word):\n",
    "            list_.append(el)\n",
    "        dic[word] = list_\n",
    "    \n",
    "    return dic"
   ]
  },
  {
   "cell_type": "code",
   "execution_count": 15,
   "metadata": {
    "collapsed": true
   },
   "outputs": [],
   "source": [
    "dic = inverted_index(vect)"
   ]
  },
  {
   "cell_type": "code",
   "execution_count": 16,
   "metadata": {},
   "outputs": [
    {
     "data": {
      "text/html": [
       "<div>\n",
       "<style>\n",
       "    .dataframe thead tr:only-child th {\n",
       "        text-align: right;\n",
       "    }\n",
       "\n",
       "    .dataframe thead th {\n",
       "        text-align: left;\n",
       "    }\n",
       "\n",
       "    .dataframe tbody tr th {\n",
       "        vertical-align: top;\n",
       "    }\n",
       "</style>\n",
       "<table border=\"1\" class=\"dataframe\">\n",
       "  <thead>\n",
       "    <tr style=\"text-align: right;\">\n",
       "      <th></th>\n",
       "      <th>word</th>\n",
       "      <th>episod</th>\n",
       "    </tr>\n",
       "  </thead>\n",
       "  <tbody>\n",
       "    <tr>\n",
       "      <th>0</th>\n",
       "      <td>after</td>\n",
       "      <td>[Friends - 7x09 - The One With All The Candy]</td>\n",
       "    </tr>\n",
       "    <tr>\n",
       "      <th>1</th>\n",
       "      <td>again</td>\n",
       "      <td>[Friends - 5x19 - The One Where Ross Can't Flirt]</td>\n",
       "    </tr>\n",
       "    <tr>\n",
       "      <th>2</th>\n",
       "      <td>ahh</td>\n",
       "      <td>[Friends - 5x02 - The One With All The Kissing]</td>\n",
       "    </tr>\n",
       "    <tr>\n",
       "      <th>3</th>\n",
       "      <td>all</td>\n",
       "      <td>[Friends - 5x18 - The One Where Rachel Smokes,...</td>\n",
       "    </tr>\n",
       "    <tr>\n",
       "      <th>4</th>\n",
       "      <td>and</td>\n",
       "      <td>[Friends - 4x01 - The One With The Jellyfish.T...</td>\n",
       "    </tr>\n",
       "  </tbody>\n",
       "</table>\n",
       "</div>"
      ],
      "text/plain": [
       "    word                                             episod\n",
       "0  after      [Friends - 7x09 - The One With All The Candy]\n",
       "1  again  [Friends - 5x19 - The One Where Ross Can't Flirt]\n",
       "2    ahh    [Friends - 5x02 - The One With All The Kissing]\n",
       "3    all  [Friends - 5x18 - The One Where Rachel Smokes,...\n",
       "4    and  [Friends - 4x01 - The One With The Jellyfish.T..."
      ]
     },
     "execution_count": 16,
     "metadata": {},
     "output_type": "execute_result"
    }
   ],
   "source": [
    "visual_df = pd.DataFrame()\n",
    "visual_df['word'] = dic.keys()\n",
    "visual_df['episod'] = dic.values()\n",
    "visual_df.head()"
   ]
  },
  {
   "cell_type": "markdown",
   "metadata": {},
   "source": [
    "С помощью обратного индекса произведите следующую аналитику:  \n",
    "\n",
    "1) общая аналитика\n",
    "- какое слово является самым частотным?\n",
    "- какое самым редким?\n",
    "- какой набор слов есть во всех документах коллекции?\n",
    "\n",
    "2) частота встречаемости имен главных героев в каждом сезоне      \n",
    "- какой сезон был самым популярным у Чендлера? у Моники?   \n",
    "- кто из главных героев статистически самый популярный? \n"
   ]
  },
  {
   "cell_type": "code",
   "execution_count": 17,
   "metadata": {
    "collapsed": true
   },
   "outputs": [],
   "source": [
    "import collections"
   ]
  },
  {
   "cell_type": "code",
   "execution_count": 18,
   "metadata": {
    "collapsed": true
   },
   "outputs": [],
   "source": [
    "df_inv = pd.DataFrame({'word': vect.get_feature_names(),\n",
    "                        'episod': list(dic.values()),\n",
    "                        'freq': data['freq']})\n",
    "\n",
    "df_inv['count'] = df_inv.episod.map(lambda x: len(x))\n",
    "# df_inv = df_inv.drop('episod', 1)"
   ]
  },
  {
   "cell_type": "code",
   "execution_count": 19,
   "metadata": {},
   "outputs": [
    {
     "data": {
      "text/plain": [
       "(14115, 4)"
      ]
     },
     "execution_count": 19,
     "metadata": {},
     "output_type": "execute_result"
    }
   ],
   "source": [
    "df_inv.shape"
   ]
  },
  {
   "cell_type": "markdown",
   "metadata": {},
   "source": [
    "+ Какое слово является самым частотным?"
   ]
  },
  {
   "cell_type": "code",
   "execution_count": 20,
   "metadata": {},
   "outputs": [
    {
     "data": {
      "text/html": [
       "<div>\n",
       "<style>\n",
       "    .dataframe thead tr:only-child th {\n",
       "        text-align: right;\n",
       "    }\n",
       "\n",
       "    .dataframe thead th {\n",
       "        text-align: left;\n",
       "    }\n",
       "\n",
       "    .dataframe tbody tr th {\n",
       "        vertical-align: top;\n",
       "    }\n",
       "</style>\n",
       "<table border=\"1\" class=\"dataframe\">\n",
       "  <thead>\n",
       "    <tr style=\"text-align: right;\">\n",
       "      <th></th>\n",
       "      <th>episod</th>\n",
       "      <th>freq</th>\n",
       "      <th>word</th>\n",
       "      <th>count</th>\n",
       "    </tr>\n",
       "    <tr>\n",
       "      <th>Word</th>\n",
       "      <th></th>\n",
       "      <th></th>\n",
       "      <th></th>\n",
       "      <th></th>\n",
       "    </tr>\n",
       "  </thead>\n",
       "  <tbody>\n",
       "    <tr>\n",
       "      <th>ты</th>\n",
       "      <td>[Friends - 2x08 - The One With The List, Frien...</td>\n",
       "      <td>55.330057</td>\n",
       "      <td>ты</td>\n",
       "      <td>165</td>\n",
       "    </tr>\n",
       "  </tbody>\n",
       "</table>\n",
       "</div>"
      ],
      "text/plain": [
       "                                                 episod       freq word  count\n",
       "Word                                                                          \n",
       "ты    [Friends - 2x08 - The One With The List, Frien...  55.330057   ты    165"
      ]
     },
     "execution_count": 20,
     "metadata": {},
     "output_type": "execute_result"
    }
   ],
   "source": [
    "df_inv.sort_values('freq', ascending=False).head(1)"
   ]
  },
  {
   "cell_type": "markdown",
   "metadata": {},
   "source": [
    "+ Какое самым редким?"
   ]
  },
  {
   "cell_type": "code",
   "execution_count": 21,
   "metadata": {},
   "outputs": [
    {
     "data": {
      "text/html": [
       "<div>\n",
       "<style>\n",
       "    .dataframe thead tr:only-child th {\n",
       "        text-align: right;\n",
       "    }\n",
       "\n",
       "    .dataframe thead th {\n",
       "        text-align: left;\n",
       "    }\n",
       "\n",
       "    .dataframe tbody tr th {\n",
       "        vertical-align: top;\n",
       "    }\n",
       "</style>\n",
       "<table border=\"1\" class=\"dataframe\">\n",
       "  <thead>\n",
       "    <tr style=\"text-align: right;\">\n",
       "      <th></th>\n",
       "      <th>episod</th>\n",
       "      <th>freq</th>\n",
       "      <th>word</th>\n",
       "      <th>count</th>\n",
       "    </tr>\n",
       "    <tr>\n",
       "      <th>Word</th>\n",
       "      <th></th>\n",
       "      <th></th>\n",
       "      <th></th>\n",
       "      <th></th>\n",
       "    </tr>\n",
       "  </thead>\n",
       "  <tbody>\n",
       "    <tr>\n",
       "      <th>туннельный</th>\n",
       "      <td>[Friends - 4x23-24 - The One With Ross's Weddi...</td>\n",
       "      <td>0.015636</td>\n",
       "      <td>туннельный</td>\n",
       "      <td>1</td>\n",
       "    </tr>\n",
       "  </tbody>\n",
       "</table>\n",
       "</div>"
      ],
      "text/plain": [
       "                                                       episod      freq  \\\n",
       "Word                                                                      \n",
       "туннельный  [Friends - 4x23-24 - The One With Ross's Weddi...  0.015636   \n",
       "\n",
       "                  word  count  \n",
       "Word                           \n",
       "туннельный  туннельный      1  "
      ]
     },
     "execution_count": 21,
     "metadata": {},
     "output_type": "execute_result"
    }
   ],
   "source": [
    "df_inv.sort_values('freq').head(n=1)"
   ]
  },
  {
   "cell_type": "markdown",
   "metadata": {},
   "source": [
    "+ Какой набор слов есть во всех документах коллекции?"
   ]
  },
  {
   "cell_type": "code",
   "execution_count": 22,
   "metadata": {},
   "outputs": [
    {
     "data": {
      "text/plain": [
       "['быть',\n",
       " 'весь',\n",
       " 'все',\n",
       " 'да',\n",
       " 'давать',\n",
       " 'думать',\n",
       " 'если',\n",
       " 'еще',\n",
       " 'знать',\n",
       " 'как',\n",
       " 'мой',\n",
       " 'мочь',\n",
       " 'мы',\n",
       " 'на',\n",
       " 'не',\n",
       " 'нет',\n",
       " 'но',\n",
       " 'ну',\n",
       " 'он',\n",
       " 'она',\n",
       " 'они',\n",
       " 'просто',\n",
       " 'сказать',\n",
       " 'так',\n",
       " 'такой',\n",
       " 'то',\n",
       " 'ты',\n",
       " 'хорошо',\n",
       " 'хотеть',\n",
       " 'что',\n",
       " 'это',\n",
       " 'этот']"
      ]
     },
     "execution_count": 22,
     "metadata": {},
     "output_type": "execute_result"
    }
   ],
   "source": [
    "list(df_inv[df_inv['count'] == 165]['word'])"
   ]
  },
  {
   "cell_type": "markdown",
   "metadata": {},
   "source": [
    "+ Какой сезон был самым популярным у Чендлера?"
   ]
  },
  {
   "cell_type": "code",
   "execution_count": 23,
   "metadata": {
    "collapsed": true
   },
   "outputs": [],
   "source": [
    "def counter(name):\n",
    "    seasons = dict()\n",
    "    out = df_inv[df_inv['word'] == name]\n",
    "    for episod in out['episod']:\n",
    "        for el in episod:\n",
    "            num = re.search('Friends - ([0-9]+)?x', str(el)).group(1)\n",
    "            if num in seasons:\n",
    "                seasons[num] += 1\n",
    "            else:\n",
    "                seasons[num] = 0\n",
    "                seasons[num] += 1\n",
    "    \n",
    "    return seasons"
   ]
  },
  {
   "cell_type": "code",
   "execution_count": 24,
   "metadata": {
    "collapsed": true
   },
   "outputs": [],
   "source": [
    "from operator import itemgetter"
   ]
  },
  {
   "cell_type": "code",
   "execution_count": 25,
   "metadata": {},
   "outputs": [
    {
     "data": {
      "text/plain": [
       "'6'"
      ]
     },
     "execution_count": 25,
     "metadata": {},
     "output_type": "execute_result"
    }
   ],
   "source": [
    "result = counter('чендлер')\n",
    "\n",
    "sorted(result.items(), key=itemgetter(1))[-1][0]"
   ]
  },
  {
   "cell_type": "markdown",
   "metadata": {},
   "source": [
    "+ Какой сезон был самым популярным у Моники?"
   ]
  },
  {
   "cell_type": "code",
   "execution_count": 26,
   "metadata": {},
   "outputs": [
    {
     "data": {
      "text/plain": [
       "'2'"
      ]
     },
     "execution_count": 26,
     "metadata": {},
     "output_type": "execute_result"
    }
   ],
   "source": [
    "result = counter('моника')\n",
    "\n",
    "sorted(result.items(), key=itemgetter(1))[-1][0]"
   ]
  },
  {
   "cell_type": "markdown",
   "metadata": {},
   "source": [
    "+ Кто из главных героев статистически самый популярный?"
   ]
  },
  {
   "cell_type": "code",
   "execution_count": 27,
   "metadata": {},
   "outputs": [
    {
     "data": {
      "text/plain": [
       "Word\n",
       "рэйчел     2.427839\n",
       "фиби       3.236068\n",
       "моника     3.881567\n",
       "джоуи      3.999845\n",
       "чендлер    4.084930\n",
       "росс       5.182266\n",
       "Name: freq, dtype: float64"
      ]
     },
     "execution_count": 27,
     "metadata": {},
     "output_type": "execute_result"
    }
   ],
   "source": [
    "data.loc[['моника', 'чендлер', 'росс', 'джоуи', 'фиби', 'рэйчел']]['freq'].sort_values()"
   ]
  },
  {
   "cell_type": "markdown",
   "metadata": {},
   "source": [
    "## Функция ранжирования Okapi BM25"
   ]
  },
  {
   "cell_type": "markdown",
   "metadata": {},
   "source": [
    "Для обратного индекса есть общепринятая формула для ранжирования *Okapi best match 25* ([Okapi BM25](https://ru.wikipedia.org/wiki/Okapi_BM25)).    \n",
    "Пусть дан запрос $Q$, содержащий слова  $q_1, ... , q_n$, тогда функция BM25 даёт следующую оценку релевантности документа $D$ запросу $Q$:\n",
    "\n",
    "$$ score(D, Q) = \\sum_{i}^{n} \\text{IDF}(q_i)*\\frac{(k_1+1)*f(q_i,D)}{f(q_i,D)+k_1(1-b+b\\frac{|D|}{avgdl})} $$ \n",
    "где   \n",
    ">$f(q_i,D)$ - частота слова $q_i$ в документе $D$ (TF)       \n",
    "$|D|$ - длина документа (количество слов в нём)   \n",
    "*avgdl* — средняя длина документа в коллекции    \n",
    "$k_1$ и $b$ — свободные коэффициенты, обычно их выбирают как $k_1$=2.0 и $b$=0.75   \n",
    "$$$$\n",
    "$\\text{IDF}(q_i)$ есть обратная документная частота (IDF) слова $q_i$: \n",
    "$$\\text{IDF}(q_i) = \\log\\frac{N-n(q_i)+0.5}{n(q_i)+0.5},$$\n",
    ">> где $N$ - общее количество документов в коллекции   \n",
    "$n(q_i)$ — количество документов, содержащих $q_i$"
   ]
  },
  {
   "cell_type": "code",
   "execution_count": 28,
   "metadata": {
    "collapsed": true
   },
   "outputs": [],
   "source": [
    "from math import log"
   ]
  },
  {
   "cell_type": "code",
   "execution_count": 33,
   "metadata": {
    "collapsed": true
   },
   "outputs": [],
   "source": [
    "k1 = 2.0\n",
    "b = 0.75\n",
    "N = 165\n",
    "n = 0\n",
    "avgdl = np.mean(freq)"
   ]
  },
  {
   "cell_type": "code",
   "execution_count": 34,
   "metadata": {
    "collapsed": true
   },
   "outputs": [],
   "source": [
    "def score_BM25(input_, episod, avgdl, k1, b, N, n, data):\n",
    "    \"\"\"\n",
    "    Compute similarity score between search query and documents from collection\n",
    "    :return: score\n",
    "    \n",
    "    \"\"\"\n",
    "    arr = mystem.lemmatize(cleaner(input_))\n",
    "    result = 0 \n",
    "    for word in arr:\n",
    "        if (word in data.index) and (episod in data.columns):\n",
    "            n = df_inv.loc[word]['count'] \n",
    "            f = data.loc[word][episod] / (log((N - n + 0.5) / n + 0.5))\n",
    "            a = (k1 + 1) * f\n",
    "            b = f + k1 * (1 - b + b * (len(arr)) / avgdl)\n",
    "            result += (a / b) * log((N - n + 0.5) / n + 0.5)\n",
    "    \n",
    "    return result"
   ]
  },
  {
   "cell_type": "markdown",
   "metadata": {},
   "source": [
    "### __Задача__:    \n",
    "напишите функцию, которая сортирует поисковую выдачу для любого входящего запроса согласно метрике *Okapi BM25*.    \n",
    "Выведите 10 первых результатов и их скор по запросу **рождественские каникулы**. "
   ]
  },
  {
   "cell_type": "code",
   "execution_count": 37,
   "metadata": {
    "collapsed": true
   },
   "outputs": [],
   "source": [
    "def compute_sim(text, doc, data) -> float:\n",
    "    \"\"\"\n",
    "    Compute similarity score between search query and documents from collection\n",
    "    :return: score\n",
    "    \"\"\"\n",
    "    result = score_BM25(text, doc, avgdl, k1, b, N, n, data)\n",
    "    \n",
    "    return result\n",
    "\n",
    "\n",
    "def get_search_result(text, data) -> list:\n",
    "    \"\"\"\n",
    "    Compute sim score between search query and all documents in collection\n",
    "    Collect as pair (doc_id, score)\n",
    "    :param query: input text\n",
    "    :return: list of lists with (doc_id, score)\n",
    "    \"\"\"\n",
    "    res = []\n",
    "    \n",
    "    for doc in data.columns:\n",
    "        res.append((doc, compute_sim(text, doc, data)))\n",
    "    \n",
    "    return res"
   ]
  },
  {
   "cell_type": "code",
   "execution_count": 38,
   "metadata": {},
   "outputs": [
    {
     "data": {
      "text/plain": [
       "[('Friends - 7x10 - The One With The Holiday Armadillo', 0.67619165266019921),\n",
       " ('Friends - 3x10 - The One Where Rachel Quits', 0.49429912695967915),\n",
       " (\"Friends - 6x19 - The One With Joey's Fridge\", 0.35909711476235001),\n",
       " (\"Friends - 2x09 - The One With Phoebe's Dad\", 0.32930672640481667),\n",
       " ('Friends - 1x17 - The One With Two Parts (2)', 0.23395328545092364),\n",
       " ('Friends - 1x16 - The One With Two Parts (1)', 0.2240512194498003),\n",
       " (\"Friends - 4x03 - The One With The 'Cuffs\", 0.21922985809068396),\n",
       " ('Friends - 4x10 - The One With The Girl From Poughkeepsie',\n",
       "  0.20922793379975604),\n",
       " ('Friends - 6x10 - The One With The Routine', 0.11490356515806868),\n",
       " ('Friends - 4x08 - The One With Chandler In A Box', 0.1107416464352531)]"
      ]
     },
     "execution_count": 38,
     "metadata": {},
     "output_type": "execute_result"
    }
   ],
   "source": [
    "sorted(get_search_result('рождественские каникулы', data), key=lambda x: x[1], reverse=True)[1:11]"
   ]
  },
  {
   "cell_type": "code",
   "execution_count": null,
   "metadata": {
    "collapsed": true
   },
   "outputs": [],
   "source": []
  }
 ],
 "metadata": {
  "kernelspec": {
   "display_name": "Python 3",
   "language": "python",
   "name": "python3"
  },
  "language_info": {
   "codemirror_mode": {
    "name": "ipython",
    "version": 3
   },
   "file_extension": ".py",
   "mimetype": "text/x-python",
   "name": "python",
   "nbconvert_exporter": "python",
   "pygments_lexer": "ipython3",
   "version": "3.6.3"
  }
 },
 "nbformat": 4,
 "nbformat_minor": 2
}
