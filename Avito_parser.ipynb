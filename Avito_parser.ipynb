{
 "cells": [
  {
   "cell_type": "markdown",
   "metadata": {},
   "source": [
    "### Парсер АВИТО"
   ]
  },
  {
   "cell_type": "code",
   "execution_count": 1,
   "metadata": {
    "collapsed": true
   },
   "outputs": [],
   "source": [
    "import requests\n",
    "import urllib\n",
    "from bs4 import BeautifulSoup\n",
    "import random\n",
    "import time\n",
    "from tqdm import tqdm_notebook as tqdm\n",
    "import re\n",
    "import unicodedata\n",
    "import collections"
   ]
  },
  {
   "cell_type": "code",
   "execution_count": 3,
   "metadata": {
    "collapsed": true
   },
   "outputs": [],
   "source": [
    "def clean(text):\n",
    "    text = re.sub('\\n', '', text)\n",
    "    text = unicodedata.normalize(\"NFKD\", text)\n",
    "    text = re.sub(' +', ' ', text)\n",
    "    text = text.strip()\n",
    "    return text\n",
    "\n",
    "def clean_info(text):\n",
    "    text = unicodedata.normalize(\"NFKD\", text)\n",
    "    text = re.sub('(\\n)+', ' ', text)\n",
    "    text = re.sub('( ){2,}', ', ', text)\n",
    "    text = text.strip()[2:-1]\n",
    "    \n",
    "    return text\n",
    "\n",
    "def try_(soup, _tag, _class, _group='class'):\n",
    "    try:\n",
    "        item = soup.find(_tag, attrs={_group:_class}).text\n",
    "    except:\n",
    "        item = 'None'\n",
    "    return item\n",
    "\n",
    "def text(soup, url):\n",
    "    text = ''\n",
    "    text = 'Название объявления: ' + clean(try_(soup, 'span', 'title-info-title-text')) + '\\n' + \\\n",
    "    'Информация об объявлении: ' + clean(try_(soup, 'div', 'title-info-metadata-item')) + '\\n' + \\\n",
    "    'Информация об авторе: ' + clean_info(try_(soup, 'div', 'item-view-seller-info')) + '\\n' + \\\n",
    "    'Адрес: ' + clean(try_(soup, 'div', 'item-map-location')).replace('Адрес: ', '').replace(' Посмотреть карту', '') + \\\n",
    "    '\\n' + clean(try_(soup, 'div', 'item-params')) + '\\n' + \\\n",
    "    'Цена кошки: ' + clean(try_(soup, 'span', 'price-value-string js-price-value-string')) + '\\n' + \\\n",
    "    'Описание кошки: ' + clean(try_(soup, 'div', 'description', _group='itemprop')) + '\\n' + \\\n",
    "    'URL объявления: ' + url\n",
    "    \n",
    "    return text"
   ]
  },
  {
   "cell_type": "code",
   "execution_count": null,
   "metadata": {},
   "outputs": [
    {
     "data": {
      "application/vnd.jupyter.widget-view+json": {
       "model_id": "7144dae29e40444dac69b53445d3238b",
       "version_major": 2,
       "version_minor": 0
      },
      "text/plain": [
       "A Jupyter Widget"
      ]
     },
     "metadata": {},
     "output_type": "display_data"
    }
   ],
   "source": [
    "for x in tqdm(range(40, 70)):\n",
    "    url = 'https://www.avito.ru/rossiya/koshki?p=' + str(x) + '&view=list'\n",
    "    req = requests.get(url)\n",
    "    soup = BeautifulSoup(req.text, \"lxml\")\n",
    "    articles = soup.find_all('a', attrs={'class':'description-title-link'})\n",
    "    time.sleep(random.uniform(0, 10))\n",
    "    for item in articles:\n",
    "        url_of_article = item.get('href')\n",
    "        begin = 'https://www.avito.ru'\n",
    "        clean_url = begin + url_of_article\n",
    "        req = requests.get(clean_url)\n",
    "        soup_page = BeautifulSoup(req.text, \"lxml\")\n",
    "        text = text(soup_page, clean_url)\n",
    "        with open('/Users/alinashaymardanova/Downloads/avito_cats/' + url_of_article.replace('/', '_')[1:] + \".txt\", \"w\") as f:\n",
    "            f.write(text)\n",
    "        time.sleep(random.uniform(0, 10))"
   ]
  },
  {
   "cell_type": "code",
   "execution_count": null,
   "metadata": {
    "collapsed": true
   },
   "outputs": [],
   "source": []
  }
 ],
 "metadata": {
  "kernelspec": {
   "display_name": "Python 3",
   "language": "python",
   "name": "python3"
  },
  "language_info": {
   "codemirror_mode": {
    "name": "ipython",
    "version": 3
   },
   "file_extension": ".py",
   "mimetype": "text/x-python",
   "name": "python",
   "nbconvert_exporter": "python",
   "pygments_lexer": "ipython3",
   "version": "3.6.3"
  }
 },
 "nbformat": 4,
 "nbformat_minor": 2
}
